{
 "cells": [
  {
   "cell_type": "code",
   "execution_count": 1,
   "id": "collective-addition",
   "metadata": {},
   "outputs": [],
   "source": [
    "import hyppo\n",
    "from hyppo.discrim import ClassDiscriminabilityTest\n",
    "from hyppo.discrim._utils import _CheckInputs\n",
    "from hyppo.independence import Dcorr\n",
    "from dask.distributed import Client, progress\n",
    "import dask.dataframe as ddf\n",
    "import numpy as np\n",
    "import pandas as pd\n",
    "from matplotlib import pyplot as plt\n",
    "import seaborn as sns\n",
    "from statsmodels.multivariate.manova import MANOVA"
   ]
  },
  {
   "cell_type": "markdown",
   "id": "atmospheric-exemption",
   "metadata": {},
   "source": [
    "# One Sample Dependencies"
   ]
  },
  {
   "cell_type": "code",
   "execution_count": 2,
   "id": "affiliated-marriage",
   "metadata": {},
   "outputs": [],
   "source": [
    "def statistic(x, y, z, is_distance=False, remove_isolates=True):\n",
    "    r\"\"\"\n",
    "    Calculates the independence test statistic.\n",
    "\n",
    "    Parameters\n",
    "    ----------\n",
    "    x, y, z : ndarray of float\n",
    "        Input data matrices.\n",
    "    \"\"\"\n",
    "    # TODO: add something that checks whether z respects y\n",
    "    # that is, for each *unique* individual in y, that all\n",
    "    # of that unique individual's class labels are the same\n",
    "    check_input = _CheckInputs(\n",
    "        [x],\n",
    "        y,\n",
    "        is_dist=is_distance,\n",
    "        remove_isolates=remove_isolates,\n",
    "    )\n",
    "    x, y = check_input()\n",
    "\n",
    "    x = np.asarray(x[0])\n",
    "    y = y\n",
    "    z = z\n",
    "\n",
    "    weights = []\n",
    "    zs = np.unique(z)\n",
    "    K = len(zs)\n",
    "    N = x.shape[0]\n",
    "\n",
    "    weights = np.zeros((K, K))\n",
    "    discrs = np.zeros((K, K))\n",
    "    for i, z1 in enumerate(zs):\n",
    "        Nz1 = (z == z1).sum()\n",
    "        for j, z2 in enumerate(zs):\n",
    "            if z1 == z2:\n",
    "                Nz2 = Nz1 - 1\n",
    "            else:\n",
    "                Nz2 = (z == z2).sum()\n",
    "            weights[i, j] = Nz1*Nz2/(N*(N - 1))\n",
    "            discrs[i, j] = _statistic_zzp(x, y, z, z1=z1, z2=z2)\n",
    "    w = within_sub_discr(discrs, weights)\n",
    "    b = between_sub_discr(discrs, weights)\n",
    "    ratio = b/w\n",
    "    return w, b, ratio\n",
    "\n",
    "def _statistic_zzp(x, y, z, z1, z2):\n",
    "    r\"\"\"\n",
    "    Calulates the independence test statistic.\n",
    "\n",
    "    Parameters\n",
    "    ----------\n",
    "    x, y : ndarray of float\n",
    "        Input data matrices.\n",
    "    \"\"\"\n",
    "    rdfs = []\n",
    "    # isolate analysis to only elements from classes z1 or z2\n",
    "    idx_z1z2 = np.where(np.logical_or(z == z1, z == z2))[0]\n",
    "    y_z1z2 = y[idx_z1z2]\n",
    "    z_z1z2 = z[idx_z1z2]\n",
    "    for i in idx_z1z2:\n",
    "        # the class label of object i\n",
    "        z_i = z[i]\n",
    "        y_i = y[i]\n",
    "        # the individual label of object i\n",
    "        ind_i = y[i]\n",
    "        # get all of the distances from i to other items that have class\n",
    "        # of z1 or z2, where the individual label is the same\n",
    "        Dii = x[i][idx_z1z2][y_z1z2 == ind_i]\n",
    "        if z_i == z1:\n",
    "            z_oth = z2\n",
    "        else:\n",
    "            z_oth = z1\n",
    "        # get all of the distances from i to other items that have\n",
    "        # class of z1 or z2, where the individual label is different\n",
    "        # and the class is the class that object i is not\n",
    "        Dij = x[i][idx_z1z2][np.logical_and(z_z1z2 == z_oth, y_z1z2 != y_i)]\n",
    "\n",
    "        rdf = [1 - ((Dij < d).sum() + 0.5 * (Dij == d).sum()) / Dij.size for d in Dii]\n",
    "        rdfs.append(rdf)\n",
    "    stat = np.array(rdfs).mean()\n",
    "    return stat\n",
    "\n",
    "def permute_z_respect_y(y, z, y_unique=None, unique_idx=None):\n",
    "    if (y_unique is None) or (unique_idx is None):\n",
    "        y_unique, unique_idx = np.unique(y, return_index=True)\n",
    "    z_unique = z[unique_idx]\n",
    "    z_unique_permuted = np.random.permutation(z_unique)\n",
    "    z_permuted = np.zeros((len(y)))\n",
    "    for i, yi in enumerate(y_unique):\n",
    "        z_permuted[y == yi] = z_unique_permuted[i]\n",
    "    return z_permuted\n",
    "    \n",
    "def one_sample_test(x, y, z, reps=1000, is_distance=False, remove_isolates=True):\n",
    "    r\"\"\"\n",
    "    Calculates the independence test statistic.\n",
    "\n",
    "    Parameters\n",
    "    ----------\n",
    "    x, y, z : ndarray of float\n",
    "        Input data matrices.\n",
    "    \"\"\"\n",
    "    check_input = _CheckInputs(\n",
    "        [x],\n",
    "        y,\n",
    "        is_dist=is_distance,\n",
    "        remove_isolates=remove_isolates,\n",
    "    )\n",
    "    x, y = check_input()\n",
    "\n",
    "    x = np.asarray(x[0])\n",
    "    y = y\n",
    "    z = z\n",
    "    \n",
    "    y_unique, unique_idx = np.unique(y, return_index=True)\n",
    "\n",
    "    sample_stat = statistic(x, y, z, is_distance=True, remove_isolates=False)[2]\n",
    "    \n",
    "    # run permutation test\n",
    "    null_stat = np.zeros((reps))\n",
    "    for i in range(reps):\n",
    "        null_stat[i] = statistic(x, y, permute_z_respect_y(y, z, y_unique=y_unique, unique_idx=unique_idx),\n",
    "                                is_distance=True, remove_isolates=False)[2]\n",
    "    pvalue = ((null_stat >= sample_stat).sum() + 1)/(reps + 1)\n",
    "    return sample_stat, pvalue, null_stat\n",
    "\n",
    "def manova_statistic():\n",
    "    try:\n",
    "        indep = pd.DataFrame({\"Individual\": y, \"Class\": z})\n",
    "        model = MANOVA(x, indep)\n",
    "        test = model.mv_test()\n",
    "        return test.results[\"x1\"][\"stat\"][\"Value\"][0]\n",
    "    except:\n",
    "        return np.nan\n",
    "    \n",
    "def dcorr_statistic():\n",
    "    return Dcorr().statistic(x, z)\n",
    "\n",
    "def one_sample_manova(x, y, z):\n",
    "    try:\n",
    "        indep = pd.DataFrame({\"Individual\": y, \"Class\": z})\n",
    "        model = MANOVA(x, indep)\n",
    "        test = model.mv_test()\n",
    "        return test.results[\"x1\"][\"stat\"][\"Pr > F\"][0]\n",
    "    except:\n",
    "        return np.nan\n",
    "\n",
    "def one_sample_dcorr(x, z, reps=1000, is_distance=False):\n",
    "    return Dcorr().test(x, z, reps=reps)\n",
    "\n",
    "def within_sub_discr(discrs, weights):\n",
    "    return (np.diag(weights)*np.diag(discrs)/(np.diag(weights).sum())).sum()\n",
    "\n",
    "def between_sub_discr(discrs, weights):\n",
    "    K = discrs.shape[0]\n",
    "    return (np.extract(1 - np.eye(K), weights)*np.extract(1 - np.eye(K), discrs)/(np.extract(1 - np.eye(K), weights).sum())).sum()"
   ]
  },
  {
   "cell_type": "markdown",
   "id": "curious-marble",
   "metadata": {},
   "source": [
    "# Two Sample Dependencies"
   ]
  },
  {
   "cell_type": "code",
   "execution_count": null,
   "id": "alpha-reservoir",
   "metadata": {},
   "outputs": [],
   "source": []
  },
  {
   "cell_type": "markdown",
   "id": "fifty-confidence",
   "metadata": {},
   "source": [
    "# Simulations"
   ]
  },
  {
   "cell_type": "code",
   "execution_count": 35,
   "id": "stopped-wings",
   "metadata": {},
   "outputs": [],
   "source": [
    "def make_labels(Nsub, T, ndim, K):\n",
    "    N = Nsub*T\n",
    "    ylab = [[i for j in range(0, T)] for i in range(0, Nsub)]\n",
    "    y = np.concatenate(ylab)\n",
    "    zsublab = np.random.choice(K, size=Nsub)\n",
    "    z = np.concatenate([[zi for j in range(0, T)] for zi in zsublab])\n",
    "    Z = np.zeros((N, K))\n",
    "    for i, zi in enumerate(z):\n",
    "        Z[i, zi] = 1\n",
    "    return y, z, Z, N\n",
    "\n",
    "def gaussian_data(N, Nsub, K, y, Z, ndim, effect_size=1):\n",
    "    # class effects\n",
    "    beta_ks = []\n",
    "    for k in range(0, K):\n",
    "        beta_ks.append(2*effect_size*k/np.sqrt(ndim)*np.ones((ndim, 1)))\n",
    "    B = np.hstack(beta_ks)\n",
    "\n",
    "    # subject-specific effects are normally distributed\n",
    "    vs = np.random.normal(size=(Nsub, ndim))\n",
    "\n",
    "    sub_idx = np.zeros((N, Nsub))\n",
    "    for i, yi in enumerate(y):\n",
    "        sub_idx[i, yi] = 1\n",
    "    V = sub_idx @ vs\n",
    "\n",
    "    X = V + Z@B.transpose() + np.random.normal(size=(N, ndim))\n",
    "    return X\n",
    "\n",
    "def sample_sphere(npoints, ndim, radius_sphere=1):\n",
    "    # points on sphere\n",
    "    radius_sphere = 1.1\n",
    "\n",
    "    V_sphere = np.random.normal(0, 1, (npoints, ndim))\n",
    "    norms = np.linalg.norm(V_sphere, axis=1)\n",
    "    norms = norms.reshape(-1, 1).repeat(V_sphere.shape[1], axis=1)\n",
    "    return V_sphere/norms * radius_sphere * np.sqrt(ndim)\n",
    "\n",
    "def sample_ball(npoints, ndim, radius_ball=1):\n",
    "    # points in ball\n",
    "    radius_ball = 1\n",
    "\n",
    "    V_ball = np.random.normal(0, 1, (npoints, ndim))\n",
    "    norms = np.linalg.norm(V_ball, axis=1)[:, np.newaxis]\n",
    "    V_ball /= norms\n",
    "    uniform_points = np.random.uniform(size=npoints)[:, np.newaxis]\n",
    "    new_radii = np.power(uniform_points, 1/ndim)\n",
    "    V_ball *= new_radii\n",
    "    return V_ball * radius_ball\n",
    "    \n",
    "def ball_disc_data(z_persub, y, ndim, N, Nsub, effect_size=1):\n",
    "    V = np.zeros((Nsub, ndim))\n",
    "    \n",
    "    radius_ball = 1\n",
    "    \n",
    "    V[z_persub == 1] = sample_sphere(int((z_persub == 1).sum()), ndim, \n",
    "                                     radius_sphere=(radius_ball*(1 + effect_size/np.sqrt(ndim))))\n",
    "\n",
    "    V[z_persub == 0] = sample_ball(int((z_persub == 0).sum()), ndim, \n",
    "                                        radius_ball=radius_ball)\n",
    "    \n",
    "    sub_idx = np.zeros((N, Nsub))\n",
    "    for i, yi in enumerate(y):\n",
    "        sub_idx[i, yi] = 1\n",
    "    X = sub_idx @ V + np.random.normal(0, .4, size=(N, ndim))\n",
    "    return X                     "
   ]
  },
  {
   "cell_type": "markdown",
   "id": "usual-boards",
   "metadata": {},
   "source": [
    "## One Sample Data"
   ]
  },
  {
   "cell_type": "code",
   "execution_count": 49,
   "id": "resident-greeting",
   "metadata": {},
   "outputs": [],
   "source": [
    "def noeff_onesample(Nsub, T, ndim, K, effect_size=None):\n",
    "    y, z, Z, N = make_labels(Nsub, T, ndim, K)\n",
    "    \n",
    "    X = gaussian_data(N, Nsub, K, y, Z, ndim, effect_size=0)\n",
    "    return X, y, z\n",
    "\n",
    "def gaussian_onesample(Nsub, T, ndim, K, effect_size=1):\n",
    "    y, z, Z, N = make_labels(Nsub, T, ndim, K)\n",
    "    \n",
    "    X = gaussian_data(N, Nsub, K, y, Z, ndim, effect_size=effect_size)\n",
    "    \n",
    "    return X, y, z\n",
    "                                     \n",
    "def ballcirc_onesample(Nsub, T, ndim, K, effect_size=1):\n",
    "    y, z, Z, N = make_labels(Nsub, T, ndim, K)\n",
    "    z_persub = z[np.unique(y, return_index=True)[1]]\n",
    "    X = ball_disc_data(z_persub, y, ndim, N, Nsub, effect_size=effect_size)\n",
    "    return X, y, z"
   ]
  },
  {
   "cell_type": "markdown",
   "id": "convenient-christmas",
   "metadata": {},
   "source": [
    "# No Effect"
   ]
  },
  {
   "cell_type": "code",
   "execution_count": 50,
   "id": "consecutive-kingdom",
   "metadata": {},
   "outputs": [
    {
     "name": "stdout",
     "output_type": "stream",
     "text": [
      "Within: 0.797833\n",
      "Between: 0.795894\n",
      "Ratio: 0.997569\n"
     ]
    }
   ],
   "source": [
    "X, y, z = noeff_onesample(50, 2, 2, 2)\n",
    "\n",
    "w, b, ratio = statistic(X, y, z)\n",
    "print(\"Within: {:3f}\".format(w))\n",
    "print(\"Between: {:3f}\".format(b))\n",
    "print(\"Ratio: {:3f}\".format(ratio))"
   ]
  },
  {
   "cell_type": "code",
   "execution_count": 51,
   "id": "regional-penetration",
   "metadata": {},
   "outputs": [
    {
     "data": {
      "text/plain": [
       "<AxesSubplot:xlabel='x1', ylabel='x2'>"
      ]
     },
     "execution_count": 51,
     "metadata": {},
     "output_type": "execute_result"
    },
    {
     "data": {
      "image/png": "[encoded data removed]",
      "text/plain": [
       "<Figure size 432x288 with 1 Axes>"
      ]
     },
     "metadata": {
      "needs_background": "light"
     },
     "output_type": "display_data"
    }
   ],
   "source": [
    "Xdat = pd.DataFrame({\"x1\": X[:,0],  \"x2\": X[:, 1], \"Class\": z, \"individual\": y})\n",
    "sns.scatterplot(x=\"x1\", y=\"x2\", data=Xdat, hue=\"Class\")"
   ]
  },
  {
   "cell_type": "markdown",
   "id": "deadly-albuquerque",
   "metadata": {},
   "source": [
    "# Effect"
   ]
  },
  {
   "cell_type": "code",
   "execution_count": 52,
   "id": "ecological-violence",
   "metadata": {},
   "outputs": [
    {
     "name": "stdout",
     "output_type": "stream",
     "text": [
      "Within: 0.817510\n",
      "Between: 0.872583\n",
      "Ratio: 1.067368\n"
     ]
    }
   ],
   "source": [
    "X, y, z = gaussian_onesample(50, 2, 2, 2, effect_size=1)\n",
    "\n",
    "w, b, ratio = statistic(X, y, z)\n",
    "print(\"Within: {:3f}\".format(w))\n",
    "print(\"Between: {:3f}\".format(b))\n",
    "print(\"Ratio: {:3f}\".format(ratio))"
   ]
  },
  {
   "cell_type": "code",
   "execution_count": 53,
   "id": "sonic-injection",
   "metadata": {},
   "outputs": [
    {
     "data": {
      "text/plain": [
       "<AxesSubplot:xlabel='x1', ylabel='x2'>"
      ]
     },
     "execution_count": 53,
     "metadata": {},
     "output_type": "execute_result"
    },
    {
     "data": {
      "image/png": "[encoded data removed]",
      "text/plain": [
       "<Figure size 432x288 with 1 Axes>"
      ]
     },
     "metadata": {
      "needs_background": "light"
     },
     "output_type": "display_data"
    }
   ],
   "source": [
    "Xdat = pd.DataFrame({\"x1\": X[:,0],  \"x2\": X[:, 1], \"Class\": z, \"individual\": y})\n",
    "sns.scatterplot(x=\"x1\", y=\"x2\", data=Xdat, hue=\"Class\")"
   ]
  },
  {
   "cell_type": "markdown",
   "id": "friendly-romania",
   "metadata": {},
   "source": [
    "# Circle"
   ]
  },
  {
   "cell_type": "code",
   "execution_count": 55,
   "id": "successful-loading",
   "metadata": {},
   "outputs": [
    {
     "name": "stdout",
     "output_type": "stream",
     "text": [
      "Within: 0.907614\n",
      "Between: 0.963628\n",
      "Ratio: 1.061716\n"
     ]
    }
   ],
   "source": [
    "X, y, z = ballcirc_onesample(50, 2, 2, 2)\n",
    "\n",
    "w, b, ratio = statistic(X, y, z)\n",
    "print(\"Within: {:3f}\".format(w))\n",
    "print(\"Between: {:3f}\".format(b))\n",
    "print(\"Ratio: {:3f}\".format(ratio))"
   ]
  },
  {
   "cell_type": "code",
   "execution_count": 56,
   "id": "designed-stress",
   "metadata": {},
   "outputs": [
    {
     "data": {
      "text/plain": [
       "<AxesSubplot:xlabel='x1', ylabel='x2'>"
      ]
     },
     "execution_count": 56,
     "metadata": {},
     "output_type": "execute_result"
    },
    {
     "data": {
      "image/png": "[encoded data removed]",
      "text/plain": [
       "<Figure size 432x288 with 1 Axes>"
      ]
     },
     "metadata": {
      "needs_background": "light"
     },
     "output_type": "display_data"
    }
   ],
   "source": [
    "Xdat = pd.DataFrame({\"x1\": X[:,0],  \"x2\": X[:, 1], \"Class\": z, \"individual\": y})\n",
    "sns.scatterplot(x=\"x1\", y=\"x2\", data=Xdat, hue=\"Class\")"
   ]
  },
  {
   "cell_type": "markdown",
   "id": "rental-dallas",
   "metadata": {},
   "source": [
    "# Asymptotic Consistency of $w$ and $b$"
   ]
  },
  {
   "cell_type": "code",
   "execution_count": null,
   "id": "statewide-maria",
   "metadata": {},
   "outputs": [],
   "source": [
    "outer_reps = 200\n",
    "ws = []\n",
    "bs = []\n",
    "Nsubs = []\n",
    "for Nsub in np.floor(2**np.linspace(4, 8, num=10)):\n",
    "    print(int(Nsub))\n",
    "    for i in range(outer_reps):\n",
    "        X, y, z = simulate_gaussian_eff(int(Nsub), 2, 2, 2)\n",
    "        w, b, ratio = statistic(X, y, z)\n",
    "        ws.append(w)\n",
    "        bs.append(b)\n",
    "        Nsubs.append(Nsub)"
   ]
  },
  {
   "cell_type": "code",
   "execution_count": null,
   "id": "weighted-answer",
   "metadata": {},
   "outputs": [],
   "source": [
    "data = pd.DataFrame({\"Within\": ws, \"Between\": bs, \"Number\": Nsubs})\n",
    "data[\"B/W\"] = data[\"Between\"]/data[\"Within\"]\n",
    "fig, axs = plt.subplots(1, 3, figsize=(15, 4))\n",
    "sns.lineplot(data=data, x=\"Number\", y=\"Within\", ax=axs[0], ci=\"sd\")\n",
    "sns.lineplot(data=data, x=\"Number\", y=\"Between\", ax=axs[1], ci=\"sd\")\n",
    "sns.lineplot(data=data, x=\"Number\", y=\"B/W\", ax=axs[2], ci=\"sd\")\n",
    "axs[0].set_ylabel(\"Within Subject Discr\")\n",
    "axs[1].set_ylabel(\"Between Subject Discr\")\n",
    "axs[2].set_ylabel(\"B/W Ratio\")\n",
    "axs[0].set_xlabel(\"N\")\n",
    "axs[1].set_xlabel(\"N\")\n",
    "axs[2].set_xlabel(\"N\")"
   ]
  },
  {
   "cell_type": "markdown",
   "id": "extreme-enterprise",
   "metadata": {},
   "source": [
    "## One sample test\n",
    "\n",
    "\\begin{align*}\n",
    "    H_0 : r = r_c\\text{ against }H_A: r > r_c\n",
    "\\end{align*}\n",
    "Where $r_c$ is the ratio $\\frac{b_c}{w_c}$ if the class difference were $0$; that is, $\\beta = 0_d$."
   ]
  },
  {
   "cell_type": "code",
   "execution_count": null,
   "id": "future-ottawa",
   "metadata": {},
   "outputs": [],
   "source": [
    "ncores = 6\n",
    "client = Client(threads_per_worker=1, n_workers=ncores)\n",
    "client"
   ]
  },
  {
   "cell_type": "code",
   "execution_count": null,
   "id": "typical-wisconsin",
   "metadata": {},
   "outputs": [],
   "source": [
    "outer_reps = 100\n",
    "pvalues = []\n",
    "Nsubs = []\n",
    "Nbreaks = 8\n",
    "T = 3\n",
    "ndim = 2\n",
    "reps = 100\n",
    "\n",
    "def run_exp_ost(row):\n",
    "    if row[0] == \"Gaussian\":\n",
    "        X, y, z = gaussian_onesample(int(row[1]), T, ndim, 2)\n",
    "    if row[0] == \"No Effect\":\n",
    "        X, y, z = noeff_onesample(int(row[1]), T, ndim, 2)\n",
    "    if row[0] == \"Circle/Disc\":\n",
    "        X, y, z = ballcirc_onesample(int(row[1]), T, ndim, 2)\n",
    "    _, pvalue_cdiscr, _ = one_sample_test(X, y, z, reps=reps)\n",
    "    pvalue_manova = one_sample_manova(X, y, z)\n",
    "    _, pvalue_dcorr = one_sample_dcorr(X, z, reps=reps)\n",
    "    return (row[0], row[1], row[2], pvalue_cdiscr, pvalue_manova, pvalue_dcorr)\n",
    "\n",
    "exps = []\n",
    "for exp_type in [\"No Effect\", \"Gaussian\", \"Circle/Disc\"]:\n",
    "    for Nsub in np.floor(2**np.linspace(3, 8, num=Nbreaks)):\n",
    "        for i in range(outer_reps):\n",
    "            exps.append([exp_type, int(Nsub), i])\n",
    "\n",
    "sim_exps = pd.DataFrame(exps, columns=[\"Simulation\", \"NSubs\", \"ID\"])\n",
    "print(sim_exps.head())\n",
    "print(sim_exps.shape)"
   ]
  },
  {
   "cell_type": "code",
   "execution_count": null,
   "id": "rolled-commander",
   "metadata": {},
   "outputs": [],
   "source": [
    "sim_exps = ddf.from_pandas(sim_exps, npartitions=int(ncores*1.5))\n",
    "sim_results = sim_exps.apply(lambda x: run_exp_ost(x), axis=1, result_type=\"expand\",\n",
    "                            meta={0: object, 1: int, 2: int, 3: float, 4: float, 5: float})\n",
    "sim_results"
   ]
  },
  {
   "cell_type": "code",
   "execution_count": null,
   "id": "smooth-state",
   "metadata": {},
   "outputs": [],
   "source": [
    "sim_results = sim_results.compute(scheduler=\"multiprocessing\")\n",
    "sim_results = sim_results.rename(columns={0: \"Simulation\", 1: \"NSubs\", 2: \"index\", 3: \"pvalue_cdiscr\",\n",
    "                                          4: \"pvalue_manova\", 5: \"pvalue_dcorr\"})\n",
    "sim_results.to_csv('./data/sims_onesample.csv')"
   ]
  },
  {
   "cell_type": "code",
   "execution_count": null,
   "id": "equal-peace",
   "metadata": {},
   "outputs": [],
   "source": [
    "long_results = pd.wide_to_long(sim_results, stubnames=\"pvalue\", i=[\"Simulation\", \"NSubs\", \"index\"],\n",
    "                               j=\"Statistic\", sep=\"_\", suffix='\\\\w+')"
   ]
  },
  {
   "cell_type": "code",
   "execution_count": null,
   "id": "thick-india",
   "metadata": {},
   "outputs": [],
   "source": []
  },
  {
   "cell_type": "code",
   "execution_count": null,
   "id": "interracial-debate",
   "metadata": {},
   "outputs": [],
   "source": [
    "alpha = .05\n",
    "long_results[\"Outcome\"] = long_results[\"pvalue\"] < alpha\n",
    "long_results_power = long_results.groupby([\"Simulation\", \"NSubs\", \"Statistic\"]).agg({\"Outcome\": np.mean})"
   ]
  },
  {
   "cell_type": "code",
   "execution_count": null,
   "id": "metropolitan-machinery",
   "metadata": {},
   "outputs": [],
   "source": [
    "long_results_power"
   ]
  },
  {
   "cell_type": "code",
   "execution_count": null,
   "id": "subtle-helping",
   "metadata": {},
   "outputs": [],
   "source": []
  }
 ],
 "metadata": {
  "kernelspec": {
   "display_name": "graph-book",
   "language": "python",
   "name": "graph-book"
  },
  "language_info": {
   "codemirror_mode": {
    "name": "ipython",
    "version": 3
   },
   "file_extension": ".py",
   "mimetype": "text/x-python",
   "name": "python",
   "nbconvert_exporter": "python",
   "pygments_lexer": "ipython3",
   "version": "3.8.9"
  }
 },
 "nbformat": 4,
 "nbformat_minor": 5
}
