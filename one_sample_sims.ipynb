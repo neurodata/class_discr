{
 "cells": [
  {
   "cell_type": "code",
   "execution_count": 11,
   "id": "supreme-pilot",
   "metadata": {},
   "outputs": [],
   "source": [
    "import hyppo\n",
    "from hyppo.discrim._utils import _CheckInputs\n",
    "from hyppo.independence import Dcorr\n",
    "from dask.distributed import Client, progress\n",
    "import dask.dataframe as ddf\n",
    "import numpy as np\n",
    "import pandas as pd\n",
    "from matplotlib import pyplot as plt\n",
    "import seaborn as sns\n",
    "from statsmodels.multivariate.manova import MANOVA"
   ]
  },
  {
   "cell_type": "markdown",
   "id": "disabled-circular",
   "metadata": {},
   "source": [
    "# Simulation Dependencies"
   ]
  },
  {
   "cell_type": "code",
   "execution_count": 12,
   "id": "joint-virus",
   "metadata": {},
   "outputs": [],
   "source": [
    "from onesample import *\n",
    "from simhelper import *\n",
    "from onesample_sims import *"
   ]
  },
  {
   "cell_type": "markdown",
   "id": "english-compatibility",
   "metadata": {},
   "source": [
    "# No Effect"
   ]
  },
  {
   "cell_type": "code",
   "execution_count": 13,
   "id": "combined-index",
   "metadata": {},
   "outputs": [
    {
     "name": "stdout",
     "output_type": "stream",
     "text": [
      "Within: 0.819601\n",
      "Between: 0.814750\n",
      "Ratio: 0.994081\n",
      "Dcor: 0.011498\n",
      "Manova: 0.985006\n"
     ]
    }
   ],
   "source": [
    "X, y, z = noeff_onesample(50, 2, 2, 2)\n",
    "\n",
    "w, b, ratio = statistic(X, y, z)\n",
    "dcor = dcorr_statistic(X, z)\n",
    "manova = manova_statistic(X, y, z)\n",
    "print(\"Within: {:3f}\".format(w))\n",
    "print(\"Between: {:3f}\".format(b))\n",
    "print(\"Ratio: {:3f}\".format(ratio))\n",
    "print(\"Dcor: {:3f}\".format(dcor))\n",
    "print(\"Manova: {:3f}\".format(manova))"
   ]
  },
  {
   "cell_type": "code",
   "execution_count": null,
   "id": "fundamental-median",
   "metadata": {},
   "outputs": [],
   "source": [
    "Xdat = pd.DataFrame({\"x1\": X[:,0],  \"x2\": X[:, 1], \"Class\": z, \"individual\": y})\n",
    "sns.scatterplot(x=\"x1\", y=\"x2\", data=Xdat, hue=\"Class\")"
   ]
  },
  {
   "cell_type": "markdown",
   "id": "grateful-bahamas",
   "metadata": {},
   "source": [
    "# Effect"
   ]
  },
  {
   "cell_type": "code",
   "execution_count": 6,
   "id": "magnetic-jacksonville",
   "metadata": {},
   "outputs": [
    {
     "name": "stdout",
     "output_type": "stream",
     "text": [
      "Within: 0.828749\n",
      "Between: 0.872687\n",
      "Ratio: 1.053017\n",
      "Dcor: 0.232158\n",
      "Manova: 0.587143\n"
     ]
    }
   ],
   "source": [
    "X, y, z = gaussian_onesample(50, 2, 2, 2, effect_size=1)\n",
    "\n",
    "w, b, ratio = statistic(X, y, z)\n",
    "dcor = dcorr_statistic(X, z)\n",
    "manova = manova_statistic(X, y, z)\n",
    "print(\"Within: {:3f}\".format(w))\n",
    "print(\"Between: {:3f}\".format(b))\n",
    "print(\"Ratio: {:3f}\".format(ratio))\n",
    "print(\"Dcor: {:3f}\".format(dcor))\n",
    "print(\"Manova: {:3f}\".format(manova))"
   ]
  },
  {
   "cell_type": "code",
   "execution_count": null,
   "id": "confident-average",
   "metadata": {},
   "outputs": [],
   "source": [
    "Xdat = pd.DataFrame({\"x1\": X[:,0],  \"x2\": X[:, 1], \"Class\": z, \"individual\": y})\n",
    "sns.scatterplot(x=\"x1\", y=\"x2\", data=Xdat, hue=\"Class\")"
   ]
  },
  {
   "cell_type": "markdown",
   "id": "retained-shareware",
   "metadata": {},
   "source": [
    "# Circle"
   ]
  },
  {
   "cell_type": "code",
   "execution_count": 7,
   "id": "cultural-world",
   "metadata": {},
   "outputs": [
    {
     "name": "stdout",
     "output_type": "stream",
     "text": [
      "Within: 0.900852\n",
      "Between: 0.989423\n",
      "Ratio: 1.098320\n",
      "Dcor: 0.207217\n",
      "Manova: 0.977632\n"
     ]
    }
   ],
   "source": [
    "X, y, z = ballcirc_onesample(50, 2, 2, 2)\n",
    "\n",
    "w, b, ratio = statistic(X, y, z)\n",
    "dcor = dcorr_statistic(X, z)\n",
    "manova = manova_statistic(X, y, z)\n",
    "print(\"Within: {:3f}\".format(w))\n",
    "print(\"Between: {:3f}\".format(b))\n",
    "print(\"Ratio: {:3f}\".format(ratio))\n",
    "print(\"Dcor: {:3f}\".format(dcor))\n",
    "print(\"Manova: {:3f}\".format(manova))"
   ]
  },
  {
   "cell_type": "code",
   "execution_count": 8,
   "id": "frank-dynamics",
   "metadata": {},
   "outputs": [
    {
     "data": {
      "text/plain": [
       "<AxesSubplot:xlabel='x1', ylabel='x2'>"
      ]
     },
     "execution_count": 8,
     "metadata": {},
     "output_type": "execute_result"
    },
    {
     "data": {
      "image/png": "[encoded data removed]",
      "text/plain": [
       "<Figure size 432x288 with 1 Axes>"
      ]
     },
     "metadata": {
      "needs_background": "light"
     },
     "output_type": "display_data"
    }
   ],
   "source": [
    "Xdat = pd.DataFrame({\"x1\": X[:,0],  \"x2\": X[:, 1], \"Class\": z, \"individual\": y})\n",
    "sns.scatterplot(x=\"x1\", y=\"x2\", data=Xdat, hue=\"Class\")"
   ]
  },
  {
   "cell_type": "markdown",
   "id": "casual-desperate",
   "metadata": {},
   "source": [
    "## One sample test\n",
    "\n",
    "\\begin{align*}\n",
    "    H_0 : r = r_c\\text{ against }H_A: r > r_c\n",
    "\\end{align*}\n",
    "Where $r_c$ is the ratio $\\frac{b_c}{w_c}$ if the class difference were $0$; that is, $\\beta = 0_d$."
   ]
  },
  {
   "cell_type": "code",
   "execution_count": null,
   "id": "extended-market",
   "metadata": {},
   "outputs": [],
   "source": [
    "ncores = 70\n",
    "client = Client(threads_per_worker=1, n_workers=ncores)\n",
    "client"
   ]
  },
  {
   "cell_type": "code",
   "execution_count": null,
   "id": "encouraging-restoration",
   "metadata": {},
   "outputs": [],
   "source": [
    "outer_reps = 100\n",
    "pvalues = []\n",
    "Nsubs = []\n",
    "Nbreaks = 6\n",
    "T = 3\n",
    "ndim = 2\n",
    "reps = 1000\n",
    "\n",
    "def run_exp_ost(row):\n",
    "    if row[0] == \"Gaussian\":\n",
    "        X, y, z = gaussian_onesample(int(row[1]), T, ndim, 2)\n",
    "    if row[0] == \"No Effect\":\n",
    "        X, y, z = noeff_onesample(int(row[1]), T, ndim, 2)\n",
    "    if row[0] == \"Circle/Disc\":\n",
    "        X, y, z = ballcirc_onesample(int(row[1]), T, ndim, 2)\n",
    "    _, pvalue_cdiscr, _ = one_sample_test(X, y, z, reps=reps)\n",
    "    pvalue_manova = one_sample_manova(X, y, z)\n",
    "    _, pvalue_dcorr = one_sample_dcorr(X, z, reps=reps)\n",
    "    return (row[0], row[1], row[2], pvalue_cdiscr, pvalue_manova, pvalue_dcorr)\n",
    "\n",
    "exps = []\n",
    "for exp_type in [\"No Effect\", \"Gaussian\", \"Circle/Disc\"]:\n",
    "    for Nsub in np.floor(2**np.linspace(4, 7, num=Nbreaks)):\n",
    "        for i in range(outer_reps):\n",
    "            exps.append([exp_type, int(Nsub), i])\n",
    "\n",
    "sim_exps = pd.DataFrame(exps, columns=[\"Simulation\", \"NSubs\", \"ID\"])\n",
    "print(sim_exps.head())\n",
    "print(sim_exps.shape)"
   ]
  },
  {
   "cell_type": "code",
   "execution_count": null,
   "id": "civic-somalia",
   "metadata": {},
   "outputs": [],
   "source": [
    "sim_exps = ddf.from_pandas(sim_exps, npartitions=int(ncores*1.5))\n",
    "sim_results = sim_exps.apply(lambda x: run_exp_ost(x), axis=1, result_type=\"expand\",\n",
    "                            meta={0: object, 1: int, 2: int, 3: float, 4: float, 5: float})\n",
    "sim_results"
   ]
  },
  {
   "cell_type": "code",
   "execution_count": null,
   "id": "biological-nowhere",
   "metadata": {},
   "outputs": [],
   "source": [
    "sim_results = sim_results.compute(scheduler=\"multiprocessing\")\n",
    "sim_results = sim_results.rename(columns={0: \"Simulation\", 1: \"NSubs\", 2: \"index\", 3: \"pvalue_cdiscr\",\n",
    "                                          4: \"pvalue_manova\", 5: \"pvalue_dcorr\"})\n",
    "sim_results.to_csv('./data/sims_onesample.csv')"
   ]
  },
  {
   "cell_type": "code",
   "execution_count": null,
   "id": "adverse-continuity",
   "metadata": {},
   "outputs": [],
   "source": [
    "sim_results = pd.read_csv('./data/sims_onesample.csv')\n",
    "long_results = pd.wide_to_long(sim_results, stubnames=\"pvalue\", i=[\"Simulation\", \"NSubs\", \"index\"],\n",
    "                               j=\"Statistic\", sep=\"_\", suffix='\\\\w+')"
   ]
  },
  {
   "cell_type": "code",
   "execution_count": null,
   "id": "devoted-lotus",
   "metadata": {},
   "outputs": [],
   "source": []
  },
  {
   "cell_type": "code",
   "execution_count": null,
   "id": "considerable-television",
   "metadata": {},
   "outputs": [],
   "source": [
    "alpha = .05\n",
    "long_results[\"Outcome\"] = long_results[\"pvalue\"] < alpha\n",
    "long_results_power = long_results.groupby([\"Simulation\", \"NSubs\", \"Statistic\"]).agg({\"Outcome\": np.mean}).reset_index()"
   ]
  },
  {
   "cell_type": "code",
   "execution_count": null,
   "id": "featured-catch",
   "metadata": {},
   "outputs": [],
   "source": [
    "long_results_power"
   ]
  },
  {
   "cell_type": "code",
   "execution_count": null,
   "id": "competitive-portfolio",
   "metadata": {},
   "outputs": [],
   "source": [
    "g = sns.FacetGrid(long_results_power, col=\"Simulation\", hue=\"Statistic\")\n",
    "g.map(sns.lineplot, \"NSubs\", \"Outcome\")\n",
    "g.add_legend();"
   ]
  },
  {
   "cell_type": "code",
   "execution_count": null,
   "id": "hidden-encoding",
   "metadata": {},
   "outputs": [],
   "source": []
  },
  {
   "cell_type": "markdown",
   "id": "median-semiconductor",
   "metadata": {},
   "source": [
    "# Asymptotic Consistency of $w$ and $b$"
   ]
  },
  {
   "cell_type": "code",
   "execution_count": null,
   "id": "elder-department",
   "metadata": {},
   "outputs": [],
   "source": [
    "outer_reps = 200\n",
    "ws = []\n",
    "bs = []\n",
    "Nsubs = []\n",
    "for Nsub in np.floor(2**np.linspace(4, 8, num=10)):\n",
    "    print(int(Nsub))\n",
    "    for i in range(outer_reps):\n",
    "        X, y, z = simulate_gaussian_eff(int(Nsub), 2, 2, 2)\n",
    "        w, b, ratio = statistic(X, y, z)\n",
    "        ws.append(w)\n",
    "        bs.append(b)\n",
    "        Nsubs.append(Nsub)"
   ]
  },
  {
   "cell_type": "code",
   "execution_count": null,
   "id": "shared-specification",
   "metadata": {},
   "outputs": [],
   "source": [
    "data = pd.DataFrame({\"Within\": ws, \"Between\": bs, \"Number\": Nsubs})\n",
    "data[\"B/W\"] = data[\"Between\"]/data[\"Within\"]\n",
    "fig, axs = plt.subplots(1, 3, figsize=(15, 4))\n",
    "sns.lineplot(data=data, x=\"Number\", y=\"Within\", ax=axs[0], ci=\"sd\")\n",
    "sns.lineplot(data=data, x=\"Number\", y=\"Between\", ax=axs[1], ci=\"sd\")\n",
    "sns.lineplot(data=data, x=\"Number\", y=\"B/W\", ax=axs[2], ci=\"sd\")\n",
    "axs[0].set_ylabel(\"Within Subject Discr\")\n",
    "axs[1].set_ylabel(\"Between Subject Discr\")\n",
    "axs[2].set_ylabel(\"B/W Ratio\")\n",
    "axs[0].set_xlabel(\"N\")\n",
    "axs[1].set_xlabel(\"N\")\n",
    "axs[2].set_xlabel(\"N\")"
   ]
  }
 ],
 "metadata": {
  "kernelspec": {
   "display_name": "graph-book",
   "language": "python",
   "name": "graph-book"
  },
  "language_info": {
   "codemirror_mode": {
    "name": "ipython",
    "version": 3
   },
   "file_extension": ".py",
   "mimetype": "text/x-python",
   "name": "python",
   "nbconvert_exporter": "python",
   "pygments_lexer": "ipython3",
   "version": "3.8.9"
  }
 },
 "nbformat": 4,
 "nbformat_minor": 5
}
